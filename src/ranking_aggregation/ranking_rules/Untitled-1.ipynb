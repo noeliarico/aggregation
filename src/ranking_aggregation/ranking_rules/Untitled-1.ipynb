{
 "cells": [
  {
   "cell_type": "code",
   "execution_count": 2,
   "metadata": {},
   "outputs": [
    {
     "data": {
      "text/plain": [
       "array([0, 1, 2, 3, 4])"
      ]
     },
     "execution_count": 2,
     "metadata": {},
     "output_type": "execute_result"
    }
   ],
   "source": [
    "import numpy as np\n",
    "np.arange(5)"
   ]
  },
  {
   "cell_type": "code",
   "execution_count": 7,
   "metadata": {},
   "outputs": [],
   "source": [
    "def f(x, y):\n",
    "    return x+y\n",
    "\n",
    "a = f(5,6)"
   ]
  },
  {
   "cell_type": "code",
   "execution_count": 2,
   "metadata": {},
   "outputs": [
    {
     "ename": "ModuleNotFoundError",
     "evalue": "No module named 'aggregation'",
     "output_type": "error",
     "traceback": [
      "\u001b[0;31m---------------------------------------------------------------------------\u001b[0m",
      "\u001b[0;31mModuleNotFoundError\u001b[0m                       Traceback (most recent call last)",
      "\u001b[1;32mUntitled-1.ipynb Cell 3'\u001b[0m in \u001b[0;36m<cell line: 1>\u001b[0;34m()\u001b[0m\n\u001b[0;32m----> <a href='vscode-notebook-cell:Untitled-1.ipynb?jupyter-notebook#ch0000002untitled?line=0'>1</a>\u001b[0m \u001b[39mimport\u001b[39;00m \u001b[39maggregation\u001b[39;00m\n",
      "\u001b[0;31mModuleNotFoundError\u001b[0m: No module named 'aggregation'"
     ]
    }
   ],
   "source": [
    "import aggregation"
   ]
  },
  {
   "cell_type": "code",
   "execution_count": 11,
   "metadata": {},
   "outputs": [],
   "source": [
    "import numpy as np\n",
    "om = np.array([[0, 4, 6, 8],\n",
    "               [6, 0, 9, 3],\n",
    "               [4, 1, 0, 5],\n",
    "               [2, 7, 5, 0]])"
   ]
  },
  {
   "cell_type": "code",
   "execution_count": 19,
   "metadata": {},
   "outputs": [
    {
     "data": {
      "text/plain": [
       "array([[0. , 0. , 1. , 1. ],\n",
       "       [1. , 0. , 1. , 0. ],\n",
       "       [0. , 0. , 0. , 0.5],\n",
       "       [0. , 1. , 0.5, 0. ]])"
      ]
     },
     "execution_count": 19,
     "metadata": {},
     "output_type": "execute_result"
    }
   ],
   "source": [
    "def f(x, h, win = 1., lose = 0., tie = 0.5):\n",
    "    if x < h: return lose\n",
    "    if x > h: return win\n",
    "    if x == h: return tie\n",
    "\n",
    "myfunc_vec = np.vectorize(f)\n",
    "result = myfunc_vec(om, 5)\n",
    "result"
   ]
  },
  {
   "cell_type": "code",
   "execution_count": null,
   "metadata": {},
   "outputs": [],
   "source": [
    "def smith_set(om):\n",
    "    # Get coopeland scores\n",
    "    "
   ]
  }
 ],
 "metadata": {
  "interpreter": {
   "hash": "05ba8eace0ef77603be87c308445d1c4950ce8b927e8216c9b91faa2f0e20611"
  },
  "kernelspec": {
   "display_name": "Python 3.8.5 ('kemeny')",
   "language": "python",
   "name": "python3"
  },
  "language_info": {
   "codemirror_mode": {
    "name": "ipython",
    "version": 3
   },
   "file_extension": ".py",
   "mimetype": "text/x-python",
   "name": "python",
   "nbconvert_exporter": "python",
   "pygments_lexer": "ipython3",
   "version": "3.8.5"
  },
  "orig_nbformat": 4
 },
 "nbformat": 4,
 "nbformat_minor": 2
}
